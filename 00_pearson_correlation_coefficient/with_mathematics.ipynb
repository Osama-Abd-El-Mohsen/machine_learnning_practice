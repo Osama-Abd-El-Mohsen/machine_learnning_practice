{
 "cells": [
  {
   "cell_type": "code",
   "execution_count": 1,
   "metadata": {},
   "outputs": [],
   "source": [
    "import pandas as pd\n",
    "import math\n",
    "import seaborn as sns\n",
    "import matplotlib.pyplot as plt"
   ]
  },
  {
   "cell_type": "code",
   "execution_count": 3,
   "metadata": {},
   "outputs": [
    {
     "name": "stdout",
     "output_type": "stream",
     "text": [
      "==================================================\n",
      "       YearsExperience         Salary\n",
      "count        30.000000      30.000000\n",
      "mean          5.313333   76003.000000\n",
      "std           2.837888   27414.429785\n",
      "min           1.100000   37731.000000\n",
      "25%           3.200000   56720.750000\n",
      "50%           4.700000   65237.000000\n",
      "75%           7.700000  100544.750000\n",
      "max          10.500000  122391.000000\n",
      "==================================================\n",
      "<class 'pandas.core.frame.DataFrame'>\n",
      "RangeIndex: 30 entries, 0 to 29\n",
      "Data columns (total 2 columns):\n",
      " #   Column           Non-Null Count  Dtype  \n",
      "---  ------           --------------  -----  \n",
      " 0   YearsExperience  30 non-null     float64\n",
      " 1   Salary           30 non-null     int64  \n",
      "dtypes: float64(1), int64(1)\n",
      "memory usage: 612.0 bytes\n",
      "None\n",
      "==================================================\n"
     ]
    }
   ],
   "source": [
    "data = pd.read_csv('../data_sets/Salary_Data.csv')\n",
    "\n",
    "data.head()\n",
    "data.shape\n",
    "print(\"=\"*50)\n",
    "print(data.describe())\n",
    "print(\"=\"*50)\n",
    "print(data.info())\n",
    "print(\"=\"*50)"
   ]
  },
  {
   "cell_type": "code",
   "execution_count": 4,
   "metadata": {},
   "outputs": [
    {
     "data": {
      "image/png": "[encoded data removed]",
      "text/plain": [
       "<Figure size 500x500 with 6 Axes>"
      ]
     },
     "metadata": {},
     "output_type": "display_data"
    }
   ],
   "source": [
    "sns.pairplot(data)\n",
    "plt.show()"
   ]
  },
  {
   "cell_type": "code",
   "execution_count": 8,
   "metadata": {},
   "outputs": [],
   "source": [
    "x_avg = data['YearsExperience'].sum() /  data['YearsExperience'].count()\n",
    "y_avg = data['Salary'].sum() /  data['Salary'].count()\n",
    "\n",
    "data['x-_x'] = data['YearsExperience'] - x_avg\n",
    "data['y-_y'] = data['Salary'] - y_avg\n",
    "\n",
    "data['x-_x^2'] = data['x-_x'].pow(2)\n",
    "data['y-_y^2'] = data['y-_y'].pow(2)\n",
    "\n",
    "data['x-_x * y-_y'] = data['x-_x'] * data['y-_y']"
   ]
  },
  {
   "cell_type": "code",
   "execution_count": 10,
   "metadata": {},
   "outputs": [
    {
     "data": {
      "text/html": [
       "<div>\n",
       "<style scoped>\n",
       "    .dataframe tbody tr th:only-of-type {\n",
       "        vertical-align: middle;\n",
       "    }\n",
       "\n",
       "    .dataframe tbody tr th {\n",
       "        vertical-align: top;\n",
       "    }\n",
       "\n",
       "    .dataframe thead th {\n",
       "        text-align: right;\n",
       "    }\n",
       "</style>\n",
       "<table border=\"1\" class=\"dataframe\">\n",
       "  <thead>\n",
       "    <tr style=\"text-align: right;\">\n",
       "      <th></th>\n",
       "      <th>YearsExperience</th>\n",
       "      <th>Salary</th>\n",
       "      <th>x-_x</th>\n",
       "      <th>y-_y</th>\n",
       "      <th>x-_x^2</th>\n",
       "      <th>y-_y^2</th>\n",
       "      <th>x-_x * y-_y</th>\n",
       "    </tr>\n",
       "  </thead>\n",
       "  <tbody>\n",
       "    <tr>\n",
       "      <th>0</th>\n",
       "      <td>1.1</td>\n",
       "      <td>39343</td>\n",
       "      <td>-4.213333</td>\n",
       "      <td>-36660.0</td>\n",
       "      <td>17.752178</td>\n",
       "      <td>1.343956e+09</td>\n",
       "      <td>154460.800000</td>\n",
       "    </tr>\n",
       "    <tr>\n",
       "      <th>1</th>\n",
       "      <td>1.3</td>\n",
       "      <td>46205</td>\n",
       "      <td>-4.013333</td>\n",
       "      <td>-29798.0</td>\n",
       "      <td>16.106844</td>\n",
       "      <td>8.879208e+08</td>\n",
       "      <td>119589.306667</td>\n",
       "    </tr>\n",
       "    <tr>\n",
       "      <th>2</th>\n",
       "      <td>1.5</td>\n",
       "      <td>37731</td>\n",
       "      <td>-3.813333</td>\n",
       "      <td>-38272.0</td>\n",
       "      <td>14.541511</td>\n",
       "      <td>1.464746e+09</td>\n",
       "      <td>145943.893333</td>\n",
       "    </tr>\n",
       "    <tr>\n",
       "      <th>3</th>\n",
       "      <td>2.0</td>\n",
       "      <td>43525</td>\n",
       "      <td>-3.313333</td>\n",
       "      <td>-32478.0</td>\n",
       "      <td>10.978178</td>\n",
       "      <td>1.054820e+09</td>\n",
       "      <td>107610.440000</td>\n",
       "    </tr>\n",
       "    <tr>\n",
       "      <th>4</th>\n",
       "      <td>2.2</td>\n",
       "      <td>39891</td>\n",
       "      <td>-3.113333</td>\n",
       "      <td>-36112.0</td>\n",
       "      <td>9.692844</td>\n",
       "      <td>1.304077e+09</td>\n",
       "      <td>112428.693333</td>\n",
       "    </tr>\n",
       "  </tbody>\n",
       "</table>\n",
       "</div>"
      ],
      "text/plain": [
       "   YearsExperience  Salary      x-_x     y-_y     x-_x^2        y-_y^2  \\\n",
       "0              1.1   39343 -4.213333 -36660.0  17.752178  1.343956e+09   \n",
       "1              1.3   46205 -4.013333 -29798.0  16.106844  8.879208e+08   \n",
       "2              1.5   37731 -3.813333 -38272.0  14.541511  1.464746e+09   \n",
       "3              2.0   43525 -3.313333 -32478.0  10.978178  1.054820e+09   \n",
       "4              2.2   39891 -3.113333 -36112.0   9.692844  1.304077e+09   \n",
       "\n",
       "     x-_x * y-_y  \n",
       "0  154460.800000  \n",
       "1  119589.306667  \n",
       "2  145943.893333  \n",
       "3  107610.440000  \n",
       "4  112428.693333  "
      ]
     },
     "execution_count": 10,
     "metadata": {},
     "output_type": "execute_result"
    }
   ],
   "source": [
    "data.head()"
   ]
  },
  {
   "cell_type": "code",
   "execution_count": 11,
   "metadata": {},
   "outputs": [],
   "source": [
    "sum_xX_Mult_Yy = data['x-_x * y-_y'].sum()\n",
    "sum_xX_2 = data['x-_x^2'].sum()\n",
    "sum_yY_2 = data['y-_y^2'].sum()"
   ]
  },
  {
   "cell_type": "code",
   "execution_count": 12,
   "metadata": {},
   "outputs": [
    {
     "name": "stdout",
     "output_type": "stream",
     "text": [
      "slope = 9449.962321455077 , b = 25792.20019866869\n"
     ]
    }
   ],
   "source": [
    "r = sum_xX_Mult_Yy / math.sqrt(sum_xX_2*sum_yY_2)\n",
    "sy = math.sqrt(sum_yY_2/(data['Salary'].count()-1))\n",
    "sx = math.sqrt(sum_xX_2/(data['Salary'].count()-1))\n",
    "\n",
    "slope = r*(sy/sx)\n",
    "b = y_avg - slope * x_avg\n",
    "print(f'slope = {slope} , b = {b}')"
   ]
  },
  {
   "cell_type": "code",
   "execution_count": 22,
   "metadata": {},
   "outputs": [
    {
     "name": "stdout",
     "output_type": "stream",
     "text": [
      "main_sqrt_error = 14071928275.026438\n"
     ]
    },
    {
     "data": {
      "text/html": [
       "<div>\n",
       "<style scoped>\n",
       "    .dataframe tbody tr th:only-of-type {\n",
       "        vertical-align: middle;\n",
       "    }\n",
       "\n",
       "    .dataframe tbody tr th {\n",
       "        vertical-align: top;\n",
       "    }\n",
       "\n",
       "    .dataframe thead th {\n",
       "        text-align: right;\n",
       "    }\n",
       "</style>\n",
       "<table border=\"1\" class=\"dataframe\">\n",
       "  <thead>\n",
       "    <tr style=\"text-align: right;\">\n",
       "      <th></th>\n",
       "      <th>YearsExperience</th>\n",
       "      <th>Salary</th>\n",
       "      <th>x-_x</th>\n",
       "      <th>y-_y</th>\n",
       "      <th>x-_x^2</th>\n",
       "      <th>y-_y^2</th>\n",
       "      <th>x-_x * y-_y</th>\n",
       "      <th>Predicted_Output</th>\n",
       "      <th>Error_value</th>\n",
       "    </tr>\n",
       "  </thead>\n",
       "  <tbody>\n",
       "    <tr>\n",
       "      <th>0</th>\n",
       "      <td>1.1</td>\n",
       "      <td>39343</td>\n",
       "      <td>-4.213333</td>\n",
       "      <td>-36660.0</td>\n",
       "      <td>17.752178</td>\n",
       "      <td>1.343956e+09</td>\n",
       "      <td>154460.800000</td>\n",
       "      <td>36187.158752</td>\n",
       "      <td>9.959334e+06</td>\n",
       "    </tr>\n",
       "    <tr>\n",
       "      <th>1</th>\n",
       "      <td>1.3</td>\n",
       "      <td>46205</td>\n",
       "      <td>-4.013333</td>\n",
       "      <td>-29798.0</td>\n",
       "      <td>16.106844</td>\n",
       "      <td>8.879208e+08</td>\n",
       "      <td>119589.306667</td>\n",
       "      <td>38077.151217</td>\n",
       "      <td>6.606193e+07</td>\n",
       "    </tr>\n",
       "    <tr>\n",
       "      <th>2</th>\n",
       "      <td>1.5</td>\n",
       "      <td>37731</td>\n",
       "      <td>-3.813333</td>\n",
       "      <td>-38272.0</td>\n",
       "      <td>14.541511</td>\n",
       "      <td>1.464746e+09</td>\n",
       "      <td>145943.893333</td>\n",
       "      <td>39967.143681</td>\n",
       "      <td>5.000339e+06</td>\n",
       "    </tr>\n",
       "    <tr>\n",
       "      <th>3</th>\n",
       "      <td>2.0</td>\n",
       "      <td>43525</td>\n",
       "      <td>-3.313333</td>\n",
       "      <td>-32478.0</td>\n",
       "      <td>10.978178</td>\n",
       "      <td>1.054820e+09</td>\n",
       "      <td>107610.440000</td>\n",
       "      <td>44692.124842</td>\n",
       "      <td>1.362180e+06</td>\n",
       "    </tr>\n",
       "    <tr>\n",
       "      <th>4</th>\n",
       "      <td>2.2</td>\n",
       "      <td>39891</td>\n",
       "      <td>-3.113333</td>\n",
       "      <td>-36112.0</td>\n",
       "      <td>9.692844</td>\n",
       "      <td>1.304077e+09</td>\n",
       "      <td>112428.693333</td>\n",
       "      <td>46582.117306</td>\n",
       "      <td>4.477105e+07</td>\n",
       "    </tr>\n",
       "  </tbody>\n",
       "</table>\n",
       "</div>"
      ],
      "text/plain": [
       "   YearsExperience  Salary      x-_x     y-_y     x-_x^2        y-_y^2  \\\n",
       "0              1.1   39343 -4.213333 -36660.0  17.752178  1.343956e+09   \n",
       "1              1.3   46205 -4.013333 -29798.0  16.106844  8.879208e+08   \n",
       "2              1.5   37731 -3.813333 -38272.0  14.541511  1.464746e+09   \n",
       "3              2.0   43525 -3.313333 -32478.0  10.978178  1.054820e+09   \n",
       "4              2.2   39891 -3.113333 -36112.0   9.692844  1.304077e+09   \n",
       "\n",
       "     x-_x * y-_y  Predicted_Output   Error_value  \n",
       "0  154460.800000      36187.158752  9.959334e+06  \n",
       "1  119589.306667      38077.151217  6.606193e+07  \n",
       "2  145943.893333      39967.143681  5.000339e+06  \n",
       "3  107610.440000      44692.124842  1.362180e+06  \n",
       "4  112428.693333      46582.117306  4.477105e+07  "
      ]
     },
     "execution_count": 22,
     "metadata": {},
     "output_type": "execute_result"
    }
   ],
   "source": [
    "data['Predicted_Output'] = slope*data['YearsExperience']+b\n",
    "data['Error_value'] = (data['Predicted_Output'] - data['Salary']).pow(2)\n",
    "main_sqrt_error = (1/2*data['Salary'].count()) * data['Error_value'].sum()\n",
    "print(f'main_sqrt_error = {main_sqrt_error}')\n",
    "\n",
    "data.head()"
   ]
  },
  {
   "cell_type": "code",
   "execution_count": 21,
   "metadata": {},
   "outputs": [
    {
     "data": {
      "text/plain": [
       "[<matplotlib.lines.Line2D at 0x2ba39628290>]"
      ]
     },
     "execution_count": 21,
     "metadata": {},
     "output_type": "execute_result"
    },
    {
     "data": {
      "image/png": "[encoded data removed]",
      "text/plain": [
       "<Figure size 640x480 with 1 Axes>"
      ]
     },
     "metadata": {},
     "output_type": "display_data"
    }
   ],
   "source": [
    "\n",
    "plt.scatter(data['YearsExperience'],data['Salary'],c='r')\n",
    "plt.plot(data['YearsExperience'],data['Predicted_Output'])\n",
    "plt.plot(data['YearsExperience'],data['Salary'])"
   ]
  }
 ],
 "metadata": {
  "kernelspec": {
   "display_name": "Python 3",
   "language": "python",
   "name": "python3"
  },
  "language_info": {
   "codemirror_mode": {
    "name": "ipython",
    "version": 3
   },
   "file_extension": ".py",
   "mimetype": "text/x-python",
   "name": "python",
   "nbconvert_exporter": "python",
   "pygments_lexer": "ipython3",
   "version": "3.11.5"
  }
 },
 "nbformat": 4,
 "nbformat_minor": 2
}
